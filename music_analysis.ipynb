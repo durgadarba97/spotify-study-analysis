{
 "cells": [
  {
   "cell_type": "code",
   "execution_count": 113,
   "metadata": {},
   "outputs": [],
   "source": [
    "import numpy\n",
    "import pandas as pd\n",
    "import spotipy\n",
    "from spotipy.oauth2 import SpotifyClientCredentials\n",
    "from auth import CLIENT_ID, CLIENT_SECRET\n",
    "\n",
    "# Spotify API credentials\n",
    "spotify = spotipy.Spotify(auth_manager=SpotifyClientCredentials(client_id=CLIENT_ID, client_secret=CLIENT_SECRET))"
   ]
  },
  {
   "cell_type": "code",
   "execution_count": 114,
   "metadata": {},
   "outputs": [],
   "source": [
    "# test connection\n",
    "def testConnection():\n",
    "    results = spotify.search(q='artist: Adele', type='artist')\n",
    "    print(results)"
   ]
  },
  {
   "cell_type": "code",
   "execution_count": 115,
   "metadata": {},
   "outputs": [],
   "source": [
    "# returns a list of playlists containing the search term\n",
    "def searchPlaylist(search):\n",
    "    return spotify.search(q='playlist: ' + search, type='playlist')[\"playlists\"][\"items\"]\n"
   ]
  },
  {
   "cell_type": "code",
   "execution_count": 116,
   "metadata": {},
   "outputs": [],
   "source": [
    "# returns a list of all tracks IDs in a playlist\n",
    "def getPlaylistTracks(playist_id):\n",
    "    results = spotify.playlist(playist_id, fields=\"tracks,next\")\n",
    "    tracks = results['tracks']\n",
    "    track_ids = []\n",
    "    for i, item in enumerate(tracks['items']):\n",
    "        track = item['track']\n",
    "        track_ids.append(track['id'])\n",
    "    return track_ids\n"
   ]
  },
  {
   "cell_type": "code",
   "execution_count": 117,
   "metadata": {},
   "outputs": [],
   "source": [
    "def getSong(songID):\n",
    "    return spotify.track(songID)"
   ]
  },
  {
   "cell_type": "code",
   "execution_count": null,
   "metadata": {},
   "outputs": [],
   "source": [
    "playlists = searchPlaylist(\"study\")\n",
    "tracks = []\n",
    "for i in playlists:\n",
    "    print(i[\"name\"])\n",
    "    tracks.append(getPlaylistTracks(i[\"id\"]))\n",
    "\n",
    "print(tracks)\n"
   ]
  }
 ],
 "metadata": {
  "kernelspec": {
   "display_name": "Python 3 (ipykernel)",
   "language": "python",
   "name": "python3"
  },
  "language_info": {
   "codemirror_mode": {
    "name": "ipython",
    "version": 3
   },
   "file_extension": ".py",
   "mimetype": "text/x-python",
   "name": "python",
   "nbconvert_exporter": "python",
   "pygments_lexer": "ipython3",
   "version": "3.9.6"
  },
  "orig_nbformat": 4
 },
 "nbformat": 4,
 "nbformat_minor": 2
}
